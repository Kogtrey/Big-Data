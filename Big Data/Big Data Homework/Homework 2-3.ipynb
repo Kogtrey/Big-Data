{
 "cells": [
  {
   "cell_type": "markdown",
   "metadata": {},
   "source": [
    "# Homework 2"
   ]
  },
  {
   "cell_type": "markdown",
   "metadata": {},
   "source": [
    "Homework 2 is due on Monday, February 3."
   ]
  },
  {
   "cell_type": "markdown",
   "metadata": {},
   "source": [
    "## Written Part"
   ]
  },
  {
   "cell_type": "markdown",
   "metadata": {},
   "source": [
    "**Problem 1:** Consider an $m\\times n$ matrix $X$, an $m$-component vector $y$, and an $n$-component vector $\\theta$. Suppose the matrix $X$ is tall and skinny, that is, suppose $m>n$. We saw in class the the gradient of the MSE cost function is proportional to $X^TX\\theta-X^Ty = X^T(X\\theta-y)$. This quantity can be computed two different ways: \n",
    "\n",
    "**Way 1:**\n",
    "1. Compute the matrix product $X^TX$\n",
    "2. Compute the matrix-vector product $(X^TX)\\theta$\n",
    "3. Compute the matrix-vector product $X^Ty$\n",
    "4. Subtract the vector $X^Ty$ from the vector $(X^TX)\\theta$\n",
    "\n",
    "**Way 2:**\n",
    "1. Compute the matrix-vector product $X\\theta$\n",
    "2. Subtract the vector $y$ from the vector $X\\theta$\n",
    "3. Compute the matrix-vector product $ X^T(X\\theta-y)$\n",
    "\n",
    "What would be the most efficient way in terms of operations (multiplications, additions, and subtractions) of computing it?\n",
    "\n",
    "\n",
    "**Answer:**\n",
    "\n",
    "Way 2 is the most efficient way to compute the gradient. Way 2 has no matrix products which is a cubic at best operation. Way 2 has only matrix-vector products which are not as significant as matrix products."
   ]
  },
  {
   "cell_type": "markdown",
   "metadata": {},
   "source": [
    "**Problem 2 (for M462 students):** Consider the function $f(x)=x^TMx$, where $x$ is a vector, and $M$ is an $n\\times n$ matrix (possibly non-symmetric). Find the gradient of $f(x)$. \n",
    "\n",
    "**Answer:**\n",
    "\n",
    "$ f(x)= x^TMx$\n",
    "\n",
    "$ \\frac{\\partial f}{\\partial x_{i}} = [\\begin{bmatrix}0&\\cdots&0&1&0&\\cdots&0\\end{bmatrix}Mx + x^T0x + x^TM\\begin{bmatrix}0\\\\\\vdots\\\\0\\\\1\\\\0\\\\\\vdots\\\\0\\end{bmatrix}$\n",
    "\n",
    "$ \\frac{\\partial f}{\\partial x_{i}} = \\begin{bmatrix} \\text{row i of M} \\end{bmatrix}x + x^T\\begin{bmatrix}\\text{col}\\\\\\text{i}\\\\\\text{of}\\\\\\text{M}\\end{bmatrix}$\n",
    "\n",
    "\n",
    "$ \\frac{\\partial f}{\\partial x_{i}} = Mx + M^Tx$"
   ]
  },
  {
   "cell_type": "markdown",
   "metadata": {},
   "source": [
    "**Problem 2 (for M562 students):** Consider two convex functions $f(x)$ and $g(x)$. Assume $g(x)$ is non-decresing. Show that the composite function $h(x)=g(f(x))$ is also convex."
   ]
  },
  {
   "cell_type": "markdown",
   "metadata": {},
   "source": [
    "**Problem 3:** Consider the MSE cost function $\\mbox{MSE}(\\theta)=\\|y-X\\theta\\|_2^2$. Find the second-order partial derivatives matrix (the *Hessian matrix*)\n",
    "\n",
    "$$\n",
    "\\begin{bmatrix}\n",
    "\\dfrac{\\partial^2\\mbox{MSE}(\\theta)}{\\partial \\theta_1^2} & \\dfrac{\\partial^2\\mbox{MSE}(\\theta)}{\\partial \\theta_1\\partial \\theta_2} & \\cdots & \\dfrac{\\partial^2\\mbox{MSE}(\\theta)}{\\partial \\theta_1\\partial\\theta_n} \\\\\n",
    "\\dfrac{\\partial^2\\mbox{MSE}(\\theta)}{\\partial \\theta_2\\partial \\theta_1} & \\dfrac{\\partial^2\\mbox{MSE}(\\theta)}{\\partial \\theta_2^2} & \\cdots & \\dfrac{\\partial^2\\mbox{MSE}(\\theta)}{\\partial \\theta_2\\partial\\theta_n} \\\\\n",
    "\\vdots & \\vdots & \\ddots & \\vdots \\\\\n",
    "\\dfrac{\\partial^2\\mbox{MSE}(\\theta)}{\\partial \\theta_n\\partial \\theta_1} & \\dfrac{\\partial^2\\mbox{MSE}(\\theta)}{\\partial \\theta_n\\partial \\theta_2} & \\cdots & \\dfrac{\\partial^2\\mbox{MSE}(\\theta)}{\\partial\\theta_n^2}\n",
    "\\end{bmatrix}\n",
    "$$\n",
    "\n",
    "**Answer:**\n",
    "\n",
    "$$\n",
    "\\begin{bmatrix}\n",
    "\\dfrac{2}{m}X^T((X\\theta_1 - y)(X\\theta_1 - y)) & \\dfrac{2}{m}X^T((X\\theta_1 - y)(X\\theta_2 - y)) &\\cdots& \\dfrac{2}{m}X^T((X\\theta_1 - y)(X\\theta_n - y)) \\\\\n",
    "\\dfrac{2}{m}X^T((X\\theta_2 - y)(X\\theta_1 - y)) & \\dfrac{2}{m}X^T((X\\theta_2 - y)(X\\theta_2 - y)) &\\cdots& \\dfrac{2}{m}X^T((X\\theta_2 - y)(X\\theta_n - y)) \\\\\n",
    "\\vdots & \\vdots & \\ddots & \\vdots \\\\\n",
    "\\dfrac{2}{m}X^T((X\\theta_n - y)(X\\theta_1 - y)) & \\dfrac{2}{m}X^T((X\\theta_n - y)(X\\theta_2 - y)) &\\cdots& \\dfrac{2}{m}X^T((X\\theta_n - y)(X\\theta_n - y)) \n",
    "\\end{bmatrix}\n",
    "$$\n",
    "\n",
    "**Cancels down to:**\n",
    "\n",
    "$ 2(X^TX)_{ij}$"
   ]
  },
  {
   "cell_type": "markdown",
   "metadata": {},
   "source": [
    "## Programming Part"
   ]
  },
  {
   "cell_type": "code",
   "execution_count": 1,
   "metadata": {},
   "outputs": [
    {
     "data": {
      "text/html": [
       "<div>\n",
       "<style scoped>\n",
       "    .dataframe tbody tr th:only-of-type {\n",
       "        vertical-align: middle;\n",
       "    }\n",
       "\n",
       "    .dataframe tbody tr th {\n",
       "        vertical-align: top;\n",
       "    }\n",
       "\n",
       "    .dataframe thead th {\n",
       "        text-align: right;\n",
       "    }\n",
       "</style>\n",
       "<table border=\"1\" class=\"dataframe\">\n",
       "  <thead>\n",
       "    <tr style=\"text-align: right;\">\n",
       "      <th></th>\n",
       "      <th>sepal length</th>\n",
       "      <th>sepal width</th>\n",
       "      <th>petal length</th>\n",
       "      <th>petal width</th>\n",
       "      <th>species</th>\n",
       "    </tr>\n",
       "  </thead>\n",
       "  <tbody>\n",
       "    <tr>\n",
       "      <th>0</th>\n",
       "      <td>5.1</td>\n",
       "      <td>3.5</td>\n",
       "      <td>1.4</td>\n",
       "      <td>0.2</td>\n",
       "      <td>Iris-setosa</td>\n",
       "    </tr>\n",
       "    <tr>\n",
       "      <th>1</th>\n",
       "      <td>4.9</td>\n",
       "      <td>3.0</td>\n",
       "      <td>1.4</td>\n",
       "      <td>0.2</td>\n",
       "      <td>Iris-setosa</td>\n",
       "    </tr>\n",
       "    <tr>\n",
       "      <th>2</th>\n",
       "      <td>4.7</td>\n",
       "      <td>3.2</td>\n",
       "      <td>1.3</td>\n",
       "      <td>0.2</td>\n",
       "      <td>Iris-setosa</td>\n",
       "    </tr>\n",
       "    <tr>\n",
       "      <th>3</th>\n",
       "      <td>4.6</td>\n",
       "      <td>3.1</td>\n",
       "      <td>1.5</td>\n",
       "      <td>0.2</td>\n",
       "      <td>Iris-setosa</td>\n",
       "    </tr>\n",
       "    <tr>\n",
       "      <th>4</th>\n",
       "      <td>5.0</td>\n",
       "      <td>3.6</td>\n",
       "      <td>1.4</td>\n",
       "      <td>0.2</td>\n",
       "      <td>Iris-setosa</td>\n",
       "    </tr>\n",
       "  </tbody>\n",
       "</table>\n",
       "</div>"
      ],
      "text/plain": [
       "   sepal length  sepal width  petal length  petal width      species\n",
       "0           5.1          3.5           1.4          0.2  Iris-setosa\n",
       "1           4.9          3.0           1.4          0.2  Iris-setosa\n",
       "2           4.7          3.2           1.3          0.2  Iris-setosa\n",
       "3           4.6          3.1           1.5          0.2  Iris-setosa\n",
       "4           5.0          3.6           1.4          0.2  Iris-setosa"
      ]
     },
     "execution_count": 1,
     "metadata": {},
     "output_type": "execute_result"
    }
   ],
   "source": [
    "import numpy as np\n",
    "import matplotlib.pyplot as plt\n",
    "import pandas as pd\n",
    "import seaborn as sns\n",
    "url = 'https://raw.githubusercontent.com/um-perez-alvaro/lin-regress/master/iris.data'\n",
    "iris_data = pd.read_csv(url, names=['sepal length','sepal width','petal length','petal width','species'])\n",
    "iris_data.head(5) #first 5 rows"
   ]
  },
  {
   "cell_type": "code",
   "execution_count": 14,
   "metadata": {
    "scrolled": true
   },
   "outputs": [
    {
     "name": "stdout",
     "output_type": "stream",
     "text": [
      "After Gradient Descent\n"
     ]
    },
    {
     "data": {
      "text/plain": [
       "[<matplotlib.lines.Line2D at 0x7fbdfc731ba8>]"
      ]
     },
     "execution_count": 14,
     "metadata": {},
     "output_type": "execute_result"
    },
    {
     "data": {
      "image/png": "[encoded data removed]",
      "text/plain": [
       "<Figure size 1080x504 with 1 Axes>"
      ]
     },
     "metadata": {
      "needs_background": "light"
     },
     "output_type": "display_data"
    },
    {
     "data": {
      "image/png": "[encoded data removed]",
      "text/plain": [
       "<Figure size 1080x504 with 1 Axes>"
      ]
     },
     "metadata": {
      "needs_background": "light"
     },
     "output_type": "display_data"
    },
    {
     "data": {
      "image/png": "[encoded data removed]",
      "text/plain": [
       "<Figure size 1080x504 with 1 Axes>"
      ]
     },
     "metadata": {
      "needs_background": "light"
     },
     "output_type": "display_data"
    }
   ],
   "source": [
    "\n",
    "\n",
    "\n",
    "\n",
    "rule = {'Iris-setosa':1, 'Iris-versicolor':0, 'Iris-virginica':0}\n",
    "iris_data['target'] = iris_data['species'].map(rule)\n",
    "\n",
    "'Part 2: Use Gradient Descent to train a linear model for predicting the target values.'\n",
    "\n",
    "y = iris_data['target'].to_numpy()\n",
    "y = y[:,None]\n",
    "m = len(iris_data)\n",
    "\n",
    "features = ['sepal length', 'sepal width', 'petal length', 'petal width']\n",
    "X = iris_data[features].to_numpy()\n",
    "X.shape\n",
    "\n",
    "s = .01\n",
    "theta = np.random.randn(4,1)\n",
    "\n",
    "MSE = np.linalg.norm(X@theta - y)/m\n",
    "\n",
    "plt.figure(figsize=(15,7))\n",
    "#plt.plot(x,y,'rx')\n",
    "\n",
    "y_predicted = X@theta\n",
    "\n",
    "plt.plot(y, 'bo')\n",
    "plt.plot(y_predicted,'r<')\n",
    "plt.title('MSE = ' + str(MSE), fontsize=15)\n",
    "\n",
    "X.shape\n",
    "\n",
    "y[:,None].shape\n",
    "\n",
    "'Gradient Descent Step'\n",
    "for i in range(10000):\n",
    "    gradient = (2/m)*X.T@(X@theta-y)\n",
    "    theta = theta - s*gradient\n",
    "\n",
    "\"MSE\"\n",
    "MSE = np.linalg.norm(X@theta-y)/m\n",
    "\n",
    "plt.figure(figsize=(15,7))\n",
    "#plt.plot(x,y,'rx')\n",
    "\n",
    "y_predicted = X@theta\n",
    "\n",
    "print(\"After Gradient Descent\")\n",
    "\n",
    "plt.plot(y,'ro')\n",
    "plt.plot(y_predicted,'b<')\n",
    "\n",
    "plt.title('MSE = ' + str(MSE) + '\\nAfter Gradient Descent', fontsize=15)\n",
    "\n",
    "def predictor(y,p):\n",
    "    n = len(y)\n",
    "    yy = np.zeros((n,1))\n",
    "    yy[y>=p]= 1\n",
    "    return yy\n",
    "p=0.5\n",
    "plt.figure(figsize=(15,7))\n",
    "predict = predictor(y_predicted,p)\n",
    "plt.plot(y,'rx')\n",
    "plt.plot(predict, 'bo')\n",
    "\n"
   ]
  },
  {
   "cell_type": "markdown",
   "metadata": {},
   "source": [
    "# Stochastic Gradient Descent Homework 3"
   ]
  },
  {
   "cell_type": "code",
   "execution_count": null,
   "metadata": {},
   "outputs": [],
   "source": [
    "s = .01\n",
    "theta = np.random.randn(4,1)\n",
    "\n",
    "MSE = np.linalg.norm(X@theta - y)/m\n",
    "\n",
    "plt.figure(figsize=(15,7))\n",
    "#plt.plot(x,y,'rx')\n",
    "\n",
    "y_predicted = X@theta\n",
    "\n",
    "plt.plot(y, 'ro')\n",
    "plt.plot(y_predicted,'b<')\n",
    "plt.title('MSE = ' + str(MSE), fontsize=15)\n",
    "\n"
   ]
  },
  {
   "cell_type": "code",
   "execution_count": null,
   "metadata": {},
   "outputs": [],
   "source": [
    "'Stochastic Gradient Descent (SGD)'\n",
    "m,n = X.shape\n",
    "n_iterations = 1000 #number of SGD steps\n",
    "theta = np.random.rand(n,1) #random initialization\n",
    "MSE = np.zeros((n_iterations,1)) #we will compute the MSE function after each SGD step\n",
    "s = 0.1 #learning rate\n",
    "\n",
    "for i in range(n_iterations):\n",
    "    random_row = np.random.randint(m) #pick a random integer in [0,m-1]\n",
    "    xi = X[random_row] #ith row; \n",
    "    xi = xi[None,:] #keep xi as a row vector\n",
    "    yi = y[random_row]\n",
    "    gradient = (2/m)*xi.T@(xi@theta-yi)\n",
    "    theta = theta - s*gradient\n",
    "    MSE[i] = np.linalg.norm(y-X@theta)/m\n",
    "    \n",
    "y_predicted = X@theta\n",
    "    \n",
    "    \n",
    "plt.plot(MSE,'r-')\n"
   ]
  },
  {
   "cell_type": "code",
   "execution_count": 1,
   "metadata": {},
   "outputs": [
    {
     "ename": "NameError",
     "evalue": "name 'plt' is not defined",
     "output_type": "error",
     "traceback": [
      "\u001b[0;31m---------------------------------------------------------------------------\u001b[0m",
      "\u001b[0;31mNameError\u001b[0m                                 Traceback (most recent call last)",
      "\u001b[0;32m<ipython-input-1-c37e57f326ce>\u001b[0m in \u001b[0;36m<module>\u001b[0;34m\u001b[0m\n\u001b[0;32m----> 1\u001b[0;31m \u001b[0mplt\u001b[0m\u001b[0;34m.\u001b[0m\u001b[0mfigure\u001b[0m\u001b[0;34m(\u001b[0m\u001b[0mfigsize\u001b[0m\u001b[0;34m=\u001b[0m\u001b[0;34m(\u001b[0m\u001b[0;36m15\u001b[0m\u001b[0;34m,\u001b[0m\u001b[0;36m7\u001b[0m\u001b[0;34m)\u001b[0m\u001b[0;34m)\u001b[0m\u001b[0;34m\u001b[0m\u001b[0;34m\u001b[0m\u001b[0m\n\u001b[0m\u001b[1;32m      2\u001b[0m \u001b[0mplt\u001b[0m\u001b[0;34m.\u001b[0m\u001b[0mplot\u001b[0m\u001b[0;34m(\u001b[0m\u001b[0my\u001b[0m\u001b[0;34m,\u001b[0m\u001b[0;34m'bo'\u001b[0m\u001b[0;34m)\u001b[0m\u001b[0;34m\u001b[0m\u001b[0;34m\u001b[0m\u001b[0m\n\u001b[1;32m      3\u001b[0m \u001b[0mplt\u001b[0m\u001b[0;34m.\u001b[0m\u001b[0mplot\u001b[0m\u001b[0;34m(\u001b[0m\u001b[0my_predicted\u001b[0m\u001b[0;34m,\u001b[0m \u001b[0;34m'r<'\u001b[0m\u001b[0;34m)\u001b[0m\u001b[0;34m\u001b[0m\u001b[0;34m\u001b[0m\u001b[0m\n\u001b[1;32m      4\u001b[0m \u001b[0;34m\u001b[0m\u001b[0m\n",
      "\u001b[0;31mNameError\u001b[0m: name 'plt' is not defined"
     ]
    }
   ],
   "source": [
    "\n",
    "plt.figure(figsize=(15,7))\n",
    "plt.plot(y,'bo')\n",
    "plt.plot(y_predicted, 'r<')\n",
    "\n"
   ]
  },
  {
   "cell_type": "code",
   "execution_count": null,
   "metadata": {},
   "outputs": [],
   "source": []
  }
 ],
 "metadata": {
  "kernelspec": {
   "display_name": "Python 3",
   "language": "python",
   "name": "python3"
  },
  "language_info": {
   "codemirror_mode": {
    "name": "ipython",
    "version": 3
   },
   "file_extension": ".py",
   "mimetype": "text/x-python",
   "name": "python",
   "nbconvert_exporter": "python",
   "pygments_lexer": "ipython3",
   "version": "3.6.9"
  }
 },
 "nbformat": 4,
 "nbformat_minor": 4
}
