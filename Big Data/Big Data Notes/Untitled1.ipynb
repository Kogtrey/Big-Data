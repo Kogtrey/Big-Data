{
 "cells": [
  {
   "cell_type": "code",
   "execution_count": 8,
   "metadata": {},
   "outputs": [],
   "source": [
    "import numpy as np\n",
    "import matplotlib.pyplot as plt\n",
    "import pandas as pd"
   ]
  },
  {
   "cell_type": "code",
   "execution_count": 77,
   "metadata": {},
   "outputs": [
    {
     "data": {
      "text/html": [
       "<div>\n",
       "<style scoped>\n",
       "    .dataframe tbody tr th:only-of-type {\n",
       "        vertical-align: middle;\n",
       "    }\n",
       "\n",
       "    .dataframe tbody tr th {\n",
       "        vertical-align: top;\n",
       "    }\n",
       "\n",
       "    .dataframe thead th {\n",
       "        text-align: right;\n",
       "    }\n",
       "</style>\n",
       "<table border=\"1\" class=\"dataframe\">\n",
       "  <thead>\n",
       "    <tr style=\"text-align: right;\">\n",
       "      <th></th>\n",
       "      <th>sepal length</th>\n",
       "      <th>sepal width</th>\n",
       "      <th>petal length</th>\n",
       "      <th>petal width</th>\n",
       "      <th>species</th>\n",
       "    </tr>\n",
       "  </thead>\n",
       "  <tbody>\n",
       "    <tr>\n",
       "      <th>0</th>\n",
       "      <td>5.1</td>\n",
       "      <td>3.5</td>\n",
       "      <td>1.4</td>\n",
       "      <td>0.2</td>\n",
       "      <td>Iris-setosa</td>\n",
       "    </tr>\n",
       "    <tr>\n",
       "      <th>1</th>\n",
       "      <td>4.9</td>\n",
       "      <td>3.0</td>\n",
       "      <td>1.4</td>\n",
       "      <td>0.2</td>\n",
       "      <td>Iris-setosa</td>\n",
       "    </tr>\n",
       "    <tr>\n",
       "      <th>2</th>\n",
       "      <td>4.7</td>\n",
       "      <td>3.2</td>\n",
       "      <td>1.3</td>\n",
       "      <td>0.2</td>\n",
       "      <td>Iris-setosa</td>\n",
       "    </tr>\n",
       "    <tr>\n",
       "      <th>3</th>\n",
       "      <td>4.6</td>\n",
       "      <td>3.1</td>\n",
       "      <td>1.5</td>\n",
       "      <td>0.2</td>\n",
       "      <td>Iris-setosa</td>\n",
       "    </tr>\n",
       "    <tr>\n",
       "      <th>4</th>\n",
       "      <td>5.0</td>\n",
       "      <td>3.6</td>\n",
       "      <td>1.4</td>\n",
       "      <td>0.2</td>\n",
       "      <td>Iris-setosa</td>\n",
       "    </tr>\n",
       "  </tbody>\n",
       "</table>\n",
       "</div>"
      ],
      "text/plain": [
       "   sepal length  sepal width  petal length  petal width      species\n",
       "0           5.1          3.5           1.4          0.2  Iris-setosa\n",
       "1           4.9          3.0           1.4          0.2  Iris-setosa\n",
       "2           4.7          3.2           1.3          0.2  Iris-setosa\n",
       "3           4.6          3.1           1.5          0.2  Iris-setosa\n",
       "4           5.0          3.6           1.4          0.2  Iris-setosa"
      ]
     },
     "execution_count": 77,
     "metadata": {},
     "output_type": "execute_result"
    }
   ],
   "source": [
    "url = 'https://raw.githubusercontent.com/um-perez-alvaro/lin-regress/master/iris.data'\n",
    "iris_data = pd.read_csv(url, names=['sepal length','sepal width','petal length','petal width','species'])\n",
    "iris_data.head(5)"
   ]
  },
  {
   "cell_type": "code",
   "execution_count": 66,
   "metadata": {},
   "outputs": [],
   "source": []
  },
  {
   "cell_type": "code",
   "execution_count": 63,
   "metadata": {},
   "outputs": [],
   "source": [
    "def softmax(A):\n",
    "    A = np.exp(A)\n",
    "    d = np.linalg.norm(A,ord=1,axis=1)\n",
    "    A = np.diag(1/d)@A\n",
    "    return A"
   ]
  },
  {
   "cell_type": "code",
   "execution_count": 56,
   "metadata": {},
   "outputs": [],
   "source": [
    "def cost_softmax(Y,X,theta):\n",
    "    m,n = X.shape\n",
    "    _,k = Y.shape\n",
    "    P = softmax(X@theta)\n",
    "    \n",
    "    cost = 0\n",
    "    for i in range(m):\n",
    "        for j in range(k):\n",
    "            cost = cost + Y[i,j] * np.log(P[i,j])\n",
    "    return (-1/m)*cost"
   ]
  },
  {
   "cell_type": "code",
   "execution_count": 54,
   "metadata": {},
   "outputs": [],
   "source": [
    "def softmax_regression_GD(X,Y,s,n_iterations):\n",
    "    m,n = X.shape\n",
    "    _,k = Y.shape\n",
    "    \n",
    "    theta = np.random.randn(n,k)\n",
    "    E = np.zeros(n_iterations)\n",
    "    for i in range(n_iterations):\n",
    "        gradient = (1/m)*X.T@(softmax(X@theta)-Y)\n",
    "        theta = theta - s*gradient\n",
    "        E[i] = cost_softmax(Y,X,theta)\n",
    "    return theta,E\n",
    "        "
   ]
  },
  {
   "cell_type": "code",
   "execution_count": 82,
   "metadata": {},
   "outputs": [],
   "source": [
    "softmax(A)\n",
    "np.sum(softmax(A),axis=1)\n",
    "\n",
    "\n",
    "k=3\n",
    "m = 150\n",
    "Y = np.zeros((m,3)) \n",
    "Y[iris_data['species']=='Iris-setosa',0]=1\n",
    "Y[iris_data['species']=='Iris-versicolor',1]=1\n",
    "Y[iris_data['species']=='Iris-virginica',2]=1\n",
    "\n",
    "X = iris_data.iloc[:,:4].to_numpy()"
   ]
  },
  {
   "cell_type": "code",
   "execution_count": 83,
   "metadata": {},
   "outputs": [
    {
     "data": {
      "text/plain": [
       "array([[1., 0., 0.],\n",
       "       [1., 0., 0.],\n",
       "       [1., 0., 0.],\n",
       "       [1., 0., 0.],\n",
       "       [1., 0., 0.],\n",
       "       [1., 0., 0.],\n",
       "       [1., 0., 0.],\n",
       "       [1., 0., 0.],\n",
       "       [1., 0., 0.],\n",
       "       [1., 0., 0.],\n",
       "       [1., 0., 0.],\n",
       "       [1., 0., 0.],\n",
       "       [1., 0., 0.],\n",
       "       [1., 0., 0.],\n",
       "       [1., 0., 0.],\n",
       "       [1., 0., 0.],\n",
       "       [1., 0., 0.],\n",
       "       [1., 0., 0.],\n",
       "       [1., 0., 0.],\n",
       "       [1., 0., 0.],\n",
       "       [1., 0., 0.],\n",
       "       [1., 0., 0.],\n",
       "       [1., 0., 0.],\n",
       "       [1., 0., 0.],\n",
       "       [1., 0., 0.],\n",
       "       [1., 0., 0.],\n",
       "       [1., 0., 0.],\n",
       "       [1., 0., 0.],\n",
       "       [1., 0., 0.],\n",
       "       [1., 0., 0.],\n",
       "       [1., 0., 0.],\n",
       "       [1., 0., 0.],\n",
       "       [1., 0., 0.],\n",
       "       [1., 0., 0.],\n",
       "       [1., 0., 0.],\n",
       "       [1., 0., 0.],\n",
       "       [1., 0., 0.],\n",
       "       [1., 0., 0.],\n",
       "       [1., 0., 0.],\n",
       "       [1., 0., 0.],\n",
       "       [1., 0., 0.],\n",
       "       [1., 0., 0.],\n",
       "       [1., 0., 0.],\n",
       "       [1., 0., 0.],\n",
       "       [1., 0., 0.],\n",
       "       [1., 0., 0.],\n",
       "       [1., 0., 0.],\n",
       "       [1., 0., 0.],\n",
       "       [1., 0., 0.],\n",
       "       [1., 0., 0.],\n",
       "       [0., 1., 0.],\n",
       "       [0., 1., 0.],\n",
       "       [0., 1., 0.],\n",
       "       [0., 1., 0.],\n",
       "       [0., 1., 0.],\n",
       "       [0., 1., 0.],\n",
       "       [0., 1., 0.],\n",
       "       [0., 1., 0.],\n",
       "       [0., 1., 0.],\n",
       "       [0., 1., 0.],\n",
       "       [0., 1., 0.],\n",
       "       [0., 1., 0.],\n",
       "       [0., 1., 0.],\n",
       "       [0., 1., 0.],\n",
       "       [0., 1., 0.],\n",
       "       [0., 1., 0.],\n",
       "       [0., 1., 0.],\n",
       "       [0., 1., 0.],\n",
       "       [0., 1., 0.],\n",
       "       [0., 1., 0.],\n",
       "       [0., 1., 0.],\n",
       "       [0., 1., 0.],\n",
       "       [0., 1., 0.],\n",
       "       [0., 1., 0.],\n",
       "       [0., 1., 0.],\n",
       "       [0., 1., 0.],\n",
       "       [0., 1., 0.],\n",
       "       [0., 1., 0.],\n",
       "       [0., 1., 0.],\n",
       "       [0., 1., 0.],\n",
       "       [0., 1., 0.],\n",
       "       [0., 1., 0.],\n",
       "       [0., 1., 0.],\n",
       "       [0., 1., 0.],\n",
       "       [0., 1., 0.],\n",
       "       [0., 1., 0.],\n",
       "       [0., 1., 0.],\n",
       "       [0., 1., 0.],\n",
       "       [0., 1., 0.],\n",
       "       [0., 1., 0.],\n",
       "       [0., 1., 0.],\n",
       "       [0., 1., 0.],\n",
       "       [0., 1., 0.],\n",
       "       [0., 1., 0.],\n",
       "       [0., 1., 0.],\n",
       "       [0., 1., 0.],\n",
       "       [0., 1., 0.],\n",
       "       [0., 1., 0.],\n",
       "       [0., 1., 0.],\n",
       "       [0., 1., 0.],\n",
       "       [0., 0., 1.],\n",
       "       [0., 0., 1.],\n",
       "       [0., 0., 1.],\n",
       "       [0., 0., 1.],\n",
       "       [0., 0., 1.],\n",
       "       [0., 0., 1.],\n",
       "       [0., 0., 1.],\n",
       "       [0., 0., 1.],\n",
       "       [0., 0., 1.],\n",
       "       [0., 0., 1.],\n",
       "       [0., 0., 1.],\n",
       "       [0., 0., 1.],\n",
       "       [0., 0., 1.],\n",
       "       [0., 0., 1.],\n",
       "       [0., 0., 1.],\n",
       "       [0., 0., 1.],\n",
       "       [0., 0., 1.],\n",
       "       [0., 0., 1.],\n",
       "       [0., 0., 1.],\n",
       "       [0., 0., 1.],\n",
       "       [0., 0., 1.],\n",
       "       [0., 0., 1.],\n",
       "       [0., 0., 1.],\n",
       "       [0., 0., 1.],\n",
       "       [0., 0., 1.],\n",
       "       [0., 0., 1.],\n",
       "       [0., 0., 1.],\n",
       "       [0., 0., 1.],\n",
       "       [0., 0., 1.],\n",
       "       [0., 0., 1.],\n",
       "       [0., 0., 1.],\n",
       "       [0., 0., 1.],\n",
       "       [0., 0., 1.],\n",
       "       [0., 0., 1.],\n",
       "       [0., 0., 1.],\n",
       "       [0., 0., 1.],\n",
       "       [0., 0., 1.],\n",
       "       [0., 0., 1.],\n",
       "       [0., 0., 1.],\n",
       "       [0., 0., 1.],\n",
       "       [0., 0., 1.],\n",
       "       [0., 0., 1.],\n",
       "       [0., 0., 1.],\n",
       "       [0., 0., 1.],\n",
       "       [0., 0., 1.],\n",
       "       [0., 0., 1.],\n",
       "       [0., 0., 1.],\n",
       "       [0., 0., 1.],\n",
       "       [0., 0., 1.],\n",
       "       [0., 0., 1.]])"
      ]
     },
     "execution_count": 83,
     "metadata": {},
     "output_type": "execute_result"
    }
   ],
   "source": [
    "Y"
   ]
  },
  {
   "cell_type": "code",
   "execution_count": 84,
   "metadata": {},
   "outputs": [
    {
     "data": {
      "text/plain": [
       "[<matplotlib.lines.Line2D at 0x7fd43e14b7b8>]"
      ]
     },
     "execution_count": 84,
     "metadata": {},
     "output_type": "execute_result"
    },
    {
     "data": {
      "image/png": "[encoded data removed]",
      "text/plain": [
       "<Figure size 432x288 with 1 Axes>"
      ]
     },
     "metadata": {
      "needs_background": "light"
     },
     "output_type": "display_data"
    }
   ],
   "source": [
    "s = 0.1\n",
    "n_iterations = 500\n",
    "theta,E = softmax_regression_GD(X,Y,s,n_iterations)\n",
    "plt.plot(E)"
   ]
  },
  {
   "cell_type": "code",
   "execution_count": 86,
   "metadata": {},
   "outputs": [
    {
     "data": {
      "text/plain": [
       "array([[0.983, 0.017, 0.   ],\n",
       "       [0.943, 0.057, 0.   ],\n",
       "       [0.974, 0.026, 0.   ],\n",
       "       [0.954, 0.046, 0.   ],\n",
       "       [0.987, 0.013, 0.   ],\n",
       "       [0.987, 0.013, 0.   ],\n",
       "       [0.982, 0.018, 0.   ],\n",
       "       [0.974, 0.026, 0.   ],\n",
       "       [0.942, 0.058, 0.   ],\n",
       "       [0.947, 0.053, 0.   ],\n",
       "       [0.986, 0.014, 0.   ],\n",
       "       [0.972, 0.028, 0.   ],\n",
       "       [0.946, 0.054, 0.   ],\n",
       "       [0.976, 0.024, 0.   ],\n",
       "       [0.995, 0.005, 0.   ],\n",
       "       [0.997, 0.003, 0.   ],\n",
       "       [0.994, 0.006, 0.   ],\n",
       "       [0.982, 0.018, 0.   ],\n",
       "       [0.981, 0.019, 0.   ],\n",
       "       [0.99 , 0.01 , 0.   ],\n",
       "       [0.954, 0.046, 0.   ],\n",
       "       [0.987, 0.013, 0.   ],\n",
       "       [0.995, 0.005, 0.   ],\n",
       "       [0.948, 0.052, 0.   ],\n",
       "       [0.951, 0.049, 0.   ],\n",
       "       [0.915, 0.085, 0.   ],\n",
       "       [0.968, 0.032, 0.   ],\n",
       "       [0.978, 0.022, 0.   ],\n",
       "       [0.976, 0.024, 0.   ],\n",
       "       [0.955, 0.045, 0.   ],\n",
       "       [0.939, 0.061, 0.   ],\n",
       "       [0.968, 0.032, 0.   ],\n",
       "       [0.995, 0.005, 0.   ],\n",
       "       [0.997, 0.003, 0.   ],\n",
       "       [0.947, 0.053, 0.   ],\n",
       "       [0.975, 0.025, 0.   ],\n",
       "       [0.982, 0.018, 0.   ],\n",
       "       [0.947, 0.053, 0.   ],\n",
       "       [0.963, 0.037, 0.   ],\n",
       "       [0.973, 0.027, 0.   ],\n",
       "       [0.986, 0.014, 0.   ],\n",
       "       [0.791, 0.209, 0.   ],\n",
       "       [0.978, 0.022, 0.   ],\n",
       "       [0.975, 0.025, 0.   ],\n",
       "       [0.979, 0.021, 0.   ],\n",
       "       [0.945, 0.055, 0.   ],\n",
       "       [0.988, 0.012, 0.   ],\n",
       "       [0.97 , 0.03 , 0.   ],\n",
       "       [0.986, 0.014, 0.   ],\n",
       "       [0.972, 0.028, 0.   ],\n",
       "       [0.015, 0.945, 0.04 ],\n",
       "       [0.026, 0.835, 0.139],\n",
       "       [0.008, 0.884, 0.108],\n",
       "       [0.009, 0.737, 0.254],\n",
       "       [0.007, 0.838, 0.155],\n",
       "       [0.01 , 0.64 , 0.35 ],\n",
       "       [0.02 , 0.677, 0.304],\n",
       "       [0.07 , 0.835, 0.095],\n",
       "       [0.01 , 0.923, 0.067],\n",
       "       [0.028, 0.569, 0.403],\n",
       "       [0.016, 0.85 , 0.134],\n",
       "       [0.031, 0.738, 0.23 ],\n",
       "       [0.007, 0.956, 0.037],\n",
       "       [0.008, 0.694, 0.298],\n",
       "       [0.1  , 0.825, 0.075],\n",
       "       [0.024, 0.932, 0.044],\n",
       "       [0.012, 0.435, 0.553],\n",
       "       [0.023, 0.915, 0.061],\n",
       "       [0.002, 0.726, 0.272],\n",
       "       [0.021, 0.886, 0.092],\n",
       "       [0.006, 0.248, 0.746],\n",
       "       [0.031, 0.908, 0.061],\n",
       "       [0.001, 0.606, 0.393],\n",
       "       [0.007, 0.808, 0.185],\n",
       "       [0.02 , 0.924, 0.056],\n",
       "       [0.019, 0.923, 0.058],\n",
       "       [0.005, 0.906, 0.09 ],\n",
       "       [0.004, 0.664, 0.332],\n",
       "       [0.012, 0.663, 0.325],\n",
       "       [0.059, 0.919, 0.021],\n",
       "       [0.021, 0.882, 0.097],\n",
       "       [0.026, 0.916, 0.058],\n",
       "       [0.033, 0.893, 0.074],\n",
       "       [0.001, 0.265, 0.734],\n",
       "       [0.01 , 0.321, 0.669],\n",
       "       [0.04 , 0.607, 0.354],\n",
       "       [0.012, 0.875, 0.112],\n",
       "       [0.003, 0.892, 0.104],\n",
       "       [0.046, 0.752, 0.202],\n",
       "       [0.015, 0.744, 0.241],\n",
       "       [0.008, 0.641, 0.351],\n",
       "       [0.013, 0.74 , 0.247],\n",
       "       [0.021, 0.884, 0.095],\n",
       "       [0.053, 0.868, 0.08 ],\n",
       "       [0.016, 0.718, 0.266],\n",
       "       [0.039, 0.808, 0.153],\n",
       "       [0.028, 0.764, 0.208],\n",
       "       [0.021, 0.891, 0.088],\n",
       "       [0.142, 0.819, 0.039],\n",
       "       [0.027, 0.795, 0.178],\n",
       "       [0.   , 0.006, 0.994],\n",
       "       [0.   , 0.075, 0.924],\n",
       "       [0.   , 0.161, 0.839],\n",
       "       [0.   , 0.12 , 0.88 ],\n",
       "       [0.   , 0.038, 0.962],\n",
       "       [0.   , 0.121, 0.879],\n",
       "       [0.001, 0.058, 0.941],\n",
       "       [0.   , 0.252, 0.748],\n",
       "       [0.   , 0.171, 0.829],\n",
       "       [0.   , 0.048, 0.952],\n",
       "       [0.003, 0.277, 0.72 ],\n",
       "       [0.   , 0.186, 0.813],\n",
       "       [0.   , 0.182, 0.817],\n",
       "       [0.   , 0.051, 0.949],\n",
       "       [0.   , 0.016, 0.984],\n",
       "       [0.   , 0.067, 0.933],\n",
       "       [0.001, 0.223, 0.776],\n",
       "       [0.   , 0.116, 0.884],\n",
       "       [0.   , 0.039, 0.961],\n",
       "       [0.   , 0.349, 0.651],\n",
       "       [0.   , 0.091, 0.909],\n",
       "       [0.   , 0.055, 0.945],\n",
       "       [0.   , 0.156, 0.844],\n",
       "       [0.002, 0.377, 0.621],\n",
       "       [0.   , 0.109, 0.89 ],\n",
       "       [0.   , 0.361, 0.639],\n",
       "       [0.003, 0.379, 0.618],\n",
       "       [0.003, 0.289, 0.708],\n",
       "       [0.   , 0.059, 0.941],\n",
       "       [0.001, 0.616, 0.384],\n",
       "       [0.   , 0.319, 0.681],\n",
       "       [0.001, 0.447, 0.552],\n",
       "       [0.   , 0.043, 0.957],\n",
       "       [0.002, 0.52 , 0.478],\n",
       "       [0.   , 0.222, 0.778],\n",
       "       [0.   , 0.217, 0.783],\n",
       "       [0.   , 0.021, 0.978],\n",
       "       [0.001, 0.188, 0.811],\n",
       "       [0.004, 0.284, 0.712],\n",
       "       [0.001, 0.269, 0.73 ],\n",
       "       [0.   , 0.051, 0.949],\n",
       "       [0.002, 0.27 , 0.729],\n",
       "       [0.   , 0.075, 0.924],\n",
       "       [0.   , 0.048, 0.952],\n",
       "       [0.   , 0.032, 0.968],\n",
       "       [0.001, 0.149, 0.85 ],\n",
       "       [0.   , 0.247, 0.753],\n",
       "       [0.001, 0.224, 0.775],\n",
       "       [0.   , 0.036, 0.964],\n",
       "       [0.001, 0.138, 0.861]])"
      ]
     },
     "execution_count": 86,
     "metadata": {},
     "output_type": "execute_result"
    }
   ],
   "source": [
    "P = softmax(X@theta)\n",
    "np.round(P,3)"
   ]
  },
  {
   "cell_type": "code",
   "execution_count": 87,
   "metadata": {},
   "outputs": [
    {
     "data": {
      "text/plain": [
       "array([0, 0, 0, 0, 0, 0, 0, 0, 0, 0, 0, 0, 0, 0, 0, 0, 0, 0, 0, 0, 0, 0,\n",
       "       0, 0, 0, 0, 0, 0, 0, 0, 0, 0, 0, 0, 0, 0, 0, 0, 0, 0, 0, 0, 0, 0,\n",
       "       0, 0, 0, 0, 0, 0, 1, 1, 1, 1, 1, 1, 1, 1, 1, 1, 1, 1, 1, 1, 1, 1,\n",
       "       2, 1, 1, 1, 2, 1, 1, 1, 1, 1, 1, 1, 1, 1, 1, 1, 1, 2, 2, 1, 1, 1,\n",
       "       1, 1, 1, 1, 1, 1, 1, 1, 1, 1, 1, 1, 2, 2, 2, 2, 2, 2, 2, 2, 2, 2,\n",
       "       2, 2, 2, 2, 2, 2, 2, 2, 2, 2, 2, 2, 2, 2, 2, 2, 2, 2, 2, 1, 2, 2,\n",
       "       2, 1, 2, 2, 2, 2, 2, 2, 2, 2, 2, 2, 2, 2, 2, 2, 2, 2])"
      ]
     },
     "execution_count": 87,
     "metadata": {},
     "output_type": "execute_result"
    }
   ],
   "source": [
    "y_predicted = np.argmax(P,axis=1)\n",
    "y_predicted"
   ]
  },
  {
   "cell_type": "code",
   "execution_count": 88,
   "metadata": {},
   "outputs": [
    {
     "data": {
      "text/plain": [
       "array([0., 0., 0., 0., 0., 0., 0., 0., 0., 0., 0., 0., 0., 0., 0., 0., 0.,\n",
       "       0., 0., 0., 0., 0., 0., 0., 0., 0., 0., 0., 0., 0., 0., 0., 0., 0.,\n",
       "       0., 0., 0., 0., 0., 0., 0., 0., 0., 0., 0., 0., 0., 0., 0., 0., 1.,\n",
       "       1., 1., 1., 1., 1., 1., 1., 1., 1., 1., 1., 1., 1., 1., 1., 1., 1.,\n",
       "       1., 1., 1., 1., 1., 1., 1., 1., 1., 1., 1., 1., 1., 1., 1., 1., 1.,\n",
       "       1., 1., 1., 1., 1., 1., 1., 1., 1., 1., 1., 1., 1., 1., 1., 2., 2.,\n",
       "       2., 2., 2., 2., 2., 2., 2., 2., 2., 2., 2., 2., 2., 2., 2., 2., 2.,\n",
       "       2., 2., 2., 2., 2., 2., 2., 2., 2., 2., 2., 2., 2., 2., 2., 2., 2.,\n",
       "       2., 2., 2., 2., 2., 2., 2., 2., 2., 2., 2., 2., 2., 2.])"
      ]
     },
     "execution_count": 88,
     "metadata": {},
     "output_type": "execute_result"
    }
   ],
   "source": [
    "y = np.zeros(150)\n",
    "y[iris_data['species']=='Iris-versicolor']=1\n",
    "y[iris_data['species']=='Iris-virginica']=2\n",
    "y"
   ]
  },
  {
   "cell_type": "code",
   "execution_count": 91,
   "metadata": {},
   "outputs": [
    {
     "data": {
      "text/plain": [
       "array([[50.,  0.,  0.],\n",
       "       [ 0., 46.,  4.],\n",
       "       [ 0.,  2., 48.]])"
      ]
     },
     "execution_count": 91,
     "metadata": {},
     "output_type": "execute_result"
    }
   ],
   "source": [
    "C = np.zeros((3,3))\n",
    "for i in range(3):\n",
    "    for j in range(3):\n",
    "        C[i,j] = np.sum(y_predicted[y==i]==j)\n",
    "C"
   ]
  },
  {
   "cell_type": "code",
   "execution_count": 94,
   "metadata": {},
   "outputs": [
    {
     "data": {
      "text/html": [
       "<div>\n",
       "<style scoped>\n",
       "    .dataframe tbody tr th:only-of-type {\n",
       "        vertical-align: middle;\n",
       "    }\n",
       "\n",
       "    .dataframe tbody tr th {\n",
       "        vertical-align: top;\n",
       "    }\n",
       "\n",
       "    .dataframe thead th {\n",
       "        text-align: right;\n",
       "    }\n",
       "</style>\n",
       "<table border=\"1\" class=\"dataframe\">\n",
       "  <thead>\n",
       "    <tr style=\"text-align: right;\">\n",
       "      <th></th>\n",
       "      <th>label</th>\n",
       "      <th>pixel1</th>\n",
       "      <th>pixel2</th>\n",
       "      <th>pixel3</th>\n",
       "      <th>pixel4</th>\n",
       "      <th>pixel5</th>\n",
       "      <th>pixel6</th>\n",
       "      <th>pixel7</th>\n",
       "      <th>pixel8</th>\n",
       "      <th>pixel9</th>\n",
       "      <th>...</th>\n",
       "      <th>pixel775</th>\n",
       "      <th>pixel776</th>\n",
       "      <th>pixel777</th>\n",
       "      <th>pixel778</th>\n",
       "      <th>pixel779</th>\n",
       "      <th>pixel780</th>\n",
       "      <th>pixel781</th>\n",
       "      <th>pixel782</th>\n",
       "      <th>pixel783</th>\n",
       "      <th>pixel784</th>\n",
       "    </tr>\n",
       "  </thead>\n",
       "  <tbody>\n",
       "    <tr>\n",
       "      <th>0</th>\n",
       "      <td>0</td>\n",
       "      <td>0</td>\n",
       "      <td>0</td>\n",
       "      <td>0</td>\n",
       "      <td>0</td>\n",
       "      <td>0</td>\n",
       "      <td>0</td>\n",
       "      <td>0</td>\n",
       "      <td>9</td>\n",
       "      <td>8</td>\n",
       "      <td>...</td>\n",
       "      <td>103</td>\n",
       "      <td>87</td>\n",
       "      <td>56</td>\n",
       "      <td>0</td>\n",
       "      <td>0</td>\n",
       "      <td>0</td>\n",
       "      <td>0</td>\n",
       "      <td>0</td>\n",
       "      <td>0</td>\n",
       "      <td>0</td>\n",
       "    </tr>\n",
       "    <tr>\n",
       "      <th>1</th>\n",
       "      <td>1</td>\n",
       "      <td>0</td>\n",
       "      <td>0</td>\n",
       "      <td>0</td>\n",
       "      <td>0</td>\n",
       "      <td>0</td>\n",
       "      <td>0</td>\n",
       "      <td>0</td>\n",
       "      <td>0</td>\n",
       "      <td>0</td>\n",
       "      <td>...</td>\n",
       "      <td>34</td>\n",
       "      <td>0</td>\n",
       "      <td>0</td>\n",
       "      <td>0</td>\n",
       "      <td>0</td>\n",
       "      <td>0</td>\n",
       "      <td>0</td>\n",
       "      <td>0</td>\n",
       "      <td>0</td>\n",
       "      <td>0</td>\n",
       "    </tr>\n",
       "    <tr>\n",
       "      <th>2</th>\n",
       "      <td>2</td>\n",
       "      <td>0</td>\n",
       "      <td>0</td>\n",
       "      <td>0</td>\n",
       "      <td>0</td>\n",
       "      <td>0</td>\n",
       "      <td>0</td>\n",
       "      <td>14</td>\n",
       "      <td>53</td>\n",
       "      <td>99</td>\n",
       "      <td>...</td>\n",
       "      <td>0</td>\n",
       "      <td>0</td>\n",
       "      <td>0</td>\n",
       "      <td>0</td>\n",
       "      <td>63</td>\n",
       "      <td>53</td>\n",
       "      <td>31</td>\n",
       "      <td>0</td>\n",
       "      <td>0</td>\n",
       "      <td>0</td>\n",
       "    </tr>\n",
       "    <tr>\n",
       "      <th>3</th>\n",
       "      <td>2</td>\n",
       "      <td>0</td>\n",
       "      <td>0</td>\n",
       "      <td>0</td>\n",
       "      <td>0</td>\n",
       "      <td>0</td>\n",
       "      <td>0</td>\n",
       "      <td>0</td>\n",
       "      <td>0</td>\n",
       "      <td>0</td>\n",
       "      <td>...</td>\n",
       "      <td>137</td>\n",
       "      <td>126</td>\n",
       "      <td>140</td>\n",
       "      <td>0</td>\n",
       "      <td>133</td>\n",
       "      <td>224</td>\n",
       "      <td>222</td>\n",
       "      <td>56</td>\n",
       "      <td>0</td>\n",
       "      <td>0</td>\n",
       "    </tr>\n",
       "    <tr>\n",
       "      <th>4</th>\n",
       "      <td>3</td>\n",
       "      <td>0</td>\n",
       "      <td>0</td>\n",
       "      <td>0</td>\n",
       "      <td>0</td>\n",
       "      <td>0</td>\n",
       "      <td>0</td>\n",
       "      <td>0</td>\n",
       "      <td>0</td>\n",
       "      <td>0</td>\n",
       "      <td>...</td>\n",
       "      <td>0</td>\n",
       "      <td>0</td>\n",
       "      <td>0</td>\n",
       "      <td>0</td>\n",
       "      <td>0</td>\n",
       "      <td>0</td>\n",
       "      <td>0</td>\n",
       "      <td>0</td>\n",
       "      <td>0</td>\n",
       "      <td>0</td>\n",
       "    </tr>\n",
       "  </tbody>\n",
       "</table>\n",
       "<p>5 rows × 785 columns</p>\n",
       "</div>"
      ],
      "text/plain": [
       "   label  pixel1  pixel2  pixel3  pixel4  pixel5  pixel6  pixel7  pixel8  \\\n",
       "0      0       0       0       0       0       0       0       0       9   \n",
       "1      1       0       0       0       0       0       0       0       0   \n",
       "2      2       0       0       0       0       0       0      14      53   \n",
       "3      2       0       0       0       0       0       0       0       0   \n",
       "4      3       0       0       0       0       0       0       0       0   \n",
       "\n",
       "   pixel9  ...  pixel775  pixel776  pixel777  pixel778  pixel779  pixel780  \\\n",
       "0       8  ...       103        87        56         0         0         0   \n",
       "1       0  ...        34         0         0         0         0         0   \n",
       "2      99  ...         0         0         0         0        63        53   \n",
       "3       0  ...       137       126       140         0       133       224   \n",
       "4       0  ...         0         0         0         0         0         0   \n",
       "\n",
       "   pixel781  pixel782  pixel783  pixel784  \n",
       "0         0         0         0         0  \n",
       "1         0         0         0         0  \n",
       "2        31         0         0         0  \n",
       "3       222        56         0         0  \n",
       "4         0         0         0         0  \n",
       "\n",
       "[5 rows x 785 columns]"
      ]
     },
     "execution_count": 94,
     "metadata": {},
     "output_type": "execute_result"
    }
   ],
   "source": [
    "url = 'https://raw.githubusercontent.com/um-perez-alvaro/log-regress/master/fashion.csv'\n",
    "data = pd.read_csv(url)\n",
    "data.head(5)"
   ]
  },
  {
   "cell_type": "code",
   "execution_count": 95,
   "metadata": {},
   "outputs": [],
   "source": [
    "labels = data['label']\n",
    "pixels = data.iloc[:,1:]"
   ]
  },
  {
   "cell_type": "code",
   "execution_count": 96,
   "metadata": {},
   "outputs": [
    {
     "data": {
      "text/plain": [
       "(784,)"
      ]
     },
     "execution_count": 96,
     "metadata": {},
     "output_type": "execute_result"
    }
   ],
   "source": [
    "row = 50\n",
    "item = pixels.iloc[row,:].to_numpy()\n",
    "item.shape"
   ]
  },
  {
   "cell_type": "code",
   "execution_count": 97,
   "metadata": {},
   "outputs": [
    {
     "data": {
      "text/plain": [
       "<matplotlib.image.AxesImage at 0x7fd43e055518>"
      ]
     },
     "execution_count": 97,
     "metadata": {},
     "output_type": "execute_result"
    },
    {
     "data": {
      "image/png": "[encoded data removed]",
      "text/plain": [
       "<Figure size 432x288 with 1 Axes>"
      ]
     },
     "metadata": {
      "needs_background": "light"
     },
     "output_type": "display_data"
    }
   ],
   "source": [
    "item = item.reshape(28,28)\n",
    "plt.imshow(item,cmap='binary')"
   ]
  },
  {
   "cell_type": "code",
   "execution_count": 98,
   "metadata": {},
   "outputs": [
    {
     "data": {
      "text/plain": [
       "2"
      ]
     },
     "execution_count": 98,
     "metadata": {},
     "output_type": "execute_result"
    }
   ],
   "source": [
    "'''10 labels:\n",
    "0: T-shirt\n",
    "1: Trouser\n",
    "2: Pullover\n",
    "3: Dress\n",
    "4: Coat\n",
    "5: Sandal\n",
    "6: Shirt\n",
    "7: Sneaker\n",
    "8: Bag\n",
    "9: Angle boot\n",
    "'''\n",
    "\n",
    "labels[row]"
   ]
  },
  {
   "cell_type": "code",
   "execution_count": 99,
   "metadata": {},
   "outputs": [
    {
     "data": {
      "text/plain": [
       "10000"
      ]
     },
     "execution_count": 99,
     "metadata": {},
     "output_type": "execute_result"
    }
   ],
   "source": [
    "len(pixels)"
   ]
  },
  {
   "cell_type": "code",
   "execution_count": 100,
   "metadata": {},
   "outputs": [
    {
     "data": {
      "image/png": "[encoded data removed]",
      "text/plain": [
       "<Figure size 432x288 with 100 Axes>"
      ]
     },
     "metadata": {
      "needs_background": "light"
     },
     "output_type": "display_data"
    }
   ],
   "source": [
    "X = pixels.to_numpy()\n",
    "for i in range(100):\n",
    "    item = X[i,:]\n",
    "    image = item.reshape(28,28)\n",
    "    plt.subplot(10,10,i+1)\n",
    "    plt.imshow(image,cmap='binary')\n",
    "    plt.axis('off')\n",
    "    "
   ]
  },
  {
   "cell_type": "code",
   "execution_count": 101,
   "metadata": {},
   "outputs": [],
   "source": [
    "label_list = list(range(10)) #[0,1,...,9]\n",
    "Y = np.zeros((10000,10))\n",
    "for i in range(10):\n",
    "    Y[labels==i,i]=1"
   ]
  },
  {
   "cell_type": "code",
   "execution_count": 102,
   "metadata": {},
   "outputs": [],
   "source": [
    "pixels_scaled = (pixels-pixels.mean())/pixels.std()\n",
    "X = pixels_scaled.to_numpy()"
   ]
  },
  {
   "cell_type": "code",
   "execution_count": 103,
   "metadata": {},
   "outputs": [
    {
     "name": "stderr",
     "output_type": "stream",
     "text": [
      "/home/kogtrey/.local/lib/python3.6/site-packages/ipykernel_launcher.py:9: RuntimeWarning: divide by zero encountered in log\n",
      "  if __name__ == '__main__':\n",
      "/home/kogtrey/.local/lib/python3.6/site-packages/ipykernel_launcher.py:9: RuntimeWarning: invalid value encountered in double_scalars\n",
      "  if __name__ == '__main__':\n"
     ]
    },
    {
     "data": {
      "text/plain": [
       "[<matplotlib.lines.Line2D at 0x7fd44159afd0>,\n",
       " <matplotlib.lines.Line2D at 0x7fd44159a2b0>,\n",
       " <matplotlib.lines.Line2D at 0x7fd44159a550>,\n",
       " <matplotlib.lines.Line2D at 0x7fd44159a7f0>,\n",
       " <matplotlib.lines.Line2D at 0x7fd44159aa90>,\n",
       " <matplotlib.lines.Line2D at 0x7fd44159ad30>,\n",
       " <matplotlib.lines.Line2D at 0x7fd441608fd0>,\n",
       " <matplotlib.lines.Line2D at 0x7fd4416082b0>,\n",
       " <matplotlib.lines.Line2D at 0x7fd441608550>,\n",
       " <matplotlib.lines.Line2D at 0x7fd4416087f0>]"
      ]
     },
     "execution_count": 103,
     "metadata": {},
     "output_type": "execute_result"
    },
    {
     "data": {
      "image/png": "[encoded data removed]",
      "text/plain": [
       "<Figure size 432x288 with 1 Axes>"
      ]
     },
     "metadata": {
      "needs_background": "light"
     },
     "output_type": "display_data"
    }
   ],
   "source": [
    "s = 1\n",
    "n_iterations = 10\n",
    "E,tehta = softmax_regression_GD(X,Y,s,n_iterations)\n",
    "plt.plot(E)"
   ]
  },
  {
   "cell_type": "code",
   "execution_count": null,
   "metadata": {},
   "outputs": [],
   "source": []
  }
 ],
 "metadata": {
  "kernelspec": {
   "display_name": "Python 3",
   "language": "python",
   "name": "python3"
  },
  "language_info": {
   "codemirror_mode": {
    "name": "ipython",
    "version": 3
   },
   "file_extension": ".py",
   "mimetype": "text/x-python",
   "name": "python",
   "nbconvert_exporter": "python",
   "pygments_lexer": "ipython3",
   "version": "3.6.9"
  }
 },
 "nbformat": 4,
 "nbformat_minor": 4
}
